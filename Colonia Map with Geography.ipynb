{
 "cells": [
  {
   "cell_type": "markdown",
   "id": "27ed74c9-f735-4126-9fc0-bd68431def28",
   "metadata": {
    "tags": []
   },
   "source": [
    "# Arizona Colonia Designated Communities "
   ]
  },
  {
   "cell_type": "code",
   "execution_count": 1,
   "id": "7732dc2b-1aa1-4c07-a5c5-c8de9227e658",
   "metadata": {
    "tags": []
   },
   "outputs": [],
   "source": [
    "import pandas as pd\n",
    "import geopandas as gpd\n",
    "import plotly.express as px\n",
    "import matplotlib.pyplot as plt"
   ]
  },
  {
   "cell_type": "code",
   "execution_count": 2,
   "id": "ffe0750f-3c3c-45ad-982a-a1509addac84",
   "metadata": {
    "tags": []
   },
   "outputs": [],
   "source": [
    "colonia = pd.read_csv('Colonias_Communities.csv')"
   ]
  },
  {
   "cell_type": "code",
   "execution_count": 8,
   "id": "1493e101-a5d1-4f94-b18d-2b0c0bce524f",
   "metadata": {},
   "outputs": [],
   "source": [
    "county = gpd.read_file('Arizona_County_Boundaries.geojson')"
   ]
  },
  {
   "cell_type": "code",
   "execution_count": 9,
   "id": "15426607-c227-4c59-ad39-bb0e0931c424",
   "metadata": {
    "tags": []
   },
   "outputs": [],
   "source": [
    "fig2 = px.scatter_mapbox(colonia,\n",
    "                    lat=colonia.Y,\n",
    "                    lon=colonia.X,\n",
    "                    hover_name=\"NAME\", color_continuous_scale=\"viridis\",\n",
    "                           mapbox_style=\"carto-positron\",\n",
    "                           zoom=6, center = {\"lat\": 34.0489, \"lon\": -111.0937},\n",
    "                           opacity=1.0)"
   ]
  },
  {
   "cell_type": "code",
   "execution_count": 10,
   "id": "53c4ad98-bbb0-48e9-b8d1-1a90cd23f833",
   "metadata": {},
   "outputs": [],
   "source": [
    "fig = px.choropleth_mapbox(county, geojson=county.geometry,locations = county.index,\n",
    "                           color_continuous_scale=\"viridis\",\n",
    "                           mapbox_style=\"carto-positron\",\n",
    "                           zoom=6, center = {\"lat\": 34.0489, \"lon\": -111.0937},\n",
    "                           opacity=0.10,)"
   ]
  },
  {
   "cell_type": "code",
   "execution_count": 5,
   "id": "9b1de90c-dc34-437a-bb3e-37120fa6992e",
   "metadata": {},
   "outputs": [
    {
     "ename": "NameError",
     "evalue": "name 'fig' is not defined",
     "output_type": "error",
     "traceback": [
      "\u001b[0;31m---------------------------------------------------------------------------\u001b[0m",
      "\u001b[0;31mNameError\u001b[0m                                 Traceback (most recent call last)",
      "Cell \u001b[0;32mIn[5], line 1\u001b[0m\n\u001b[0;32m----> 1\u001b[0m colonia_map \u001b[38;5;241m=\u001b[39m \u001b[43mfig\u001b[49m\u001b[38;5;241m.\u001b[39madd_trace(\n\u001b[1;32m      2\u001b[0m     fig2\u001b[38;5;241m.\u001b[39mdata[\u001b[38;5;241m0\u001b[39m])\n",
      "\u001b[0;31mNameError\u001b[0m: name 'fig' is not defined"
     ]
    }
   ],
   "source": [
    "colonia_map = fig.add_trace(\n",
    "    fig2.data[0])"
   ]
  },
  {
   "cell_type": "code",
   "execution_count": null,
   "id": "820edfb3-485c-48d8-a250-e459353698e1",
   "metadata": {},
   "outputs": [],
   "source": []
  }
 ],
 "metadata": {
  "kernelspec": {
   "display_name": "Python 3 (ipykernel)",
   "language": "python",
   "name": "python3"
  },
  "language_info": {
   "codemirror_mode": {
    "name": "ipython",
    "version": 3
   },
   "file_extension": ".py",
   "mimetype": "text/x-python",
   "name": "python",
   "nbconvert_exporter": "python",
   "pygments_lexer": "ipython3",
   "version": "3.10.8"
  }
 },
 "nbformat": 4,
 "nbformat_minor": 5
}
